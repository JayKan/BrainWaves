{
 "cells": [
  {
   "cell_type": "raw",
   "metadata": {},
   "source": []
  },
  {
   "cell_type": "code",
   "execution_count": 1,
   "metadata": {},
   "outputs": [],
   "source": [
    "from mne import Epochs, find_events, set_eeg_reference\n",
    "from time import time, strftime, gmtime\n",
    "import os\n",
    "from utils import utils\n",
    "from collections import OrderedDict\n",
    "from glob import glob\n",
    "import os\n",
    "from collections import OrderedDict\n",
    "from mne import create_info, concatenate_raws\n",
    "from mne.io import RawArray\n",
    "from mne.channels import read_montage\n",
    "import pandas as pd\n",
    "import numpy as np\n",
    "import seaborn as sns\n",
    "from matplotlib import pyplot as plt\n",
    "%matplotlib inline"
   ]
  },
  {
   "cell_type": "code",
   "execution_count": 2,
   "metadata": {},
   "outputs": [
    {
     "name": "stdout",
     "output_type": "stream",
     "text": [
      "['C:/Users/jdpig/BrainWaves Data/N170/Dano_12.csv']\n"
     ]
    },
    {
     "ename": "IndexError",
     "evalue": "index 6 is out of bounds for axis 1 with size 6",
     "output_type": "error",
     "traceback": [
      "\u001b[1;31m---------------------------------------------------------------------------\u001b[0m",
      "\u001b[1;31mIndexError\u001b[0m                                Traceback (most recent call last)",
      "\u001b[1;32m<ipython-input-2-6cdd3ed30f56>\u001b[0m in \u001b[0;36m<module>\u001b[1;34m()\u001b[0m\n\u001b[0;32m      4\u001b[0m \u001b[0mstim_ind\u001b[0m \u001b[1;33m=\u001b[0m \u001b[1;36m14\u001b[0m\u001b[1;33m\u001b[0m\u001b[0m\n\u001b[0;32m      5\u001b[0m \u001b[0mreplace_ch_names\u001b[0m \u001b[1;33m=\u001b[0m \u001b[1;32mNone\u001b[0m\u001b[1;33m\u001b[0m\u001b[0m\n\u001b[1;32m----> 6\u001b[1;33m \u001b[0mraw\u001b[0m \u001b[1;33m=\u001b[0m \u001b[0mutils\u001b[0m\u001b[1;33m.\u001b[0m\u001b[0mload_csv_as_raw\u001b[0m\u001b[1;33m(\u001b[0m\u001b[0mfiles\u001b[0m\u001b[1;33m,\u001b[0m \u001b[0msfreq\u001b[0m\u001b[1;33m,\u001b[0m \u001b[0mch_ind\u001b[0m\u001b[1;33m,\u001b[0m \u001b[0mstim_ind\u001b[0m\u001b[1;33m,\u001b[0m \u001b[0mreplace_ch_names\u001b[0m\u001b[1;33m)\u001b[0m\u001b[1;33m\u001b[0m\u001b[0m\n\u001b[0m",
      "\u001b[1;32m~\\BrainWaves\\jupyter\\utils\\utils.py\u001b[0m in \u001b[0;36mload_csv_as_raw\u001b[1;34m(filename, sfreq, ch_ind, stim_ind, replace_ch_names)\u001b[0m\n\u001b[0;32m     54\u001b[0m \u001b[1;33m\u001b[0m\u001b[0m\n\u001b[0;32m     55\u001b[0m         \u001b[1;31m# get data and exclude Aux channel\u001b[0m\u001b[1;33m\u001b[0m\u001b[1;33m\u001b[0m\u001b[0m\n\u001b[1;32m---> 56\u001b[1;33m         \u001b[0mdata\u001b[0m \u001b[1;33m=\u001b[0m \u001b[0mdata\u001b[0m\u001b[1;33m.\u001b[0m\u001b[0mvalues\u001b[0m\u001b[1;33m[\u001b[0m\u001b[1;33m:\u001b[0m\u001b[1;33m,\u001b[0m \u001b[0mch_ind\u001b[0m \u001b[1;33m+\u001b[0m \u001b[1;33m[\u001b[0m\u001b[0mstim_ind\u001b[0m\u001b[1;33m]\u001b[0m\u001b[1;33m]\u001b[0m\u001b[1;33m.\u001b[0m\u001b[0mT\u001b[0m\u001b[1;33m\u001b[0m\u001b[0m\n\u001b[0m\u001b[0;32m     57\u001b[0m \u001b[1;33m\u001b[0m\u001b[0m\n\u001b[0;32m     58\u001b[0m         \u001b[1;31m# create MNE object\u001b[0m\u001b[1;33m\u001b[0m\u001b[1;33m\u001b[0m\u001b[0m\n",
      "\u001b[1;31mIndexError\u001b[0m: index 6 is out of bounds for axis 1 with size 6"
     ]
    }
   ],
   "source": [
    "files = ['C:/Users/jdpig/BrainWaves Data/N170/Dano_12.csv']\n",
    "sfreq=128\n",
    "ch_ind = [0,1,2,3,4,5,6,7,8,9,10,11,12,13]\n",
    "stim_ind = 14\n",
    "replace_ch_names = None\n",
    "raw = utils.load_csv_as_raw(files, sfreq, ch_ind, stim_ind, replace_ch_names)"
   ]
  },
  {
   "cell_type": "code",
   "execution_count": null,
   "metadata": {},
   "outputs": [],
   "source": [
    "## Filtering Data\n",
    "\n",
    "# Input\n",
    "low_cutoff = 1\n",
    "high_cutoff = 30\n",
    "\n",
    "# Computation\n",
    "raw.filter(low_cutoff, high_cutoff, method='iir')\n",
    "\n",
    "# Output (Optional)\n",
    "raw.plot_psd(fmin=low_cutoff, fmax=high_cutoff);"
   ]
  },
  {
   "cell_type": "code",
   "execution_count": null,
   "metadata": {},
   "outputs": [],
   "source": [
    "## Epoch Data\n",
    "\n",
    "# Input\n",
    "event_id = {'House': 3, 'Face': 4}\n",
    "tmin=-0.1\n",
    "tmax=0.8\n",
    "baseline = (tmin, tmax)\n",
    "picks = None\n",
    "reject = None\n",
    "\n",
    "# Computation\n",
    "events = find_events(raw)\n",
    "# TODO: Figure out how to normalize and auto-reject Emotiv EEG data\n",
    "epochs = Epochs(raw, events=events, event_id=event_id, \n",
    "                tmin=tmin, tmax=tmax, baseline=baseline, reject=reject, preload=True, \n",
    "                verbose=False, picks=picks)\n",
    "\n",
    "# Output\n",
    "{\"totalEpochs\": len(epochs.events), \"dropPercentage\": (1 - len(epochs.events)/len(events)) * 100, **{x: len(epochs[x]) for x in event_id}}"
   ]
  },
  {
   "cell_type": "code",
   "execution_count": null,
   "metadata": {
    "scrolled": true
   },
   "outputs": [],
   "source": [
    "## Plot ERPs\n",
    "\n",
    "# Input\n",
    "ch_ind = 1\n",
    "\n",
    "# Computation\n",
    "conditions = OrderedDict({key: [value] for (key, value) in event_id.items()})\n",
    "\n",
    "# Output\n",
    "X, y = utils.plot_conditions(epochs, ch_ind=1, conditions=conditions, \n",
    "                                ci=97.5, n_boot=1000, title='',)"
   ]
  },
  {
   "cell_type": "code",
   "execution_count": null,
   "metadata": {},
   "outputs": [],
   "source": [
    "{'House': 3, 'Face': 4}.items()"
   ]
  },
  {
   "cell_type": "code",
   "execution_count": null,
   "metadata": {},
   "outputs": [],
   "source": []
  }
 ],
 "metadata": {
  "kernelspec": {
   "display_name": "Python 3",
   "language": "python",
   "name": "python3"
  },
  "language_info": {
   "codemirror_mode": {
    "name": "ipython",
    "version": 3
   },
   "file_extension": ".py",
   "mimetype": "text/x-python",
   "name": "python",
   "nbconvert_exporter": "python",
   "pygments_lexer": "ipython3",
   "version": "3.6.5"
  }
 },
 "nbformat": 4,
 "nbformat_minor": 2
}
